{
 "cells": [
  {
   "cell_type": "markdown",
   "id": "60336cb4-5069-4cb8-94a7-39884bdedf7b",
   "metadata": {},
   "source": [
    "EDA"
   ]
  },
  {
   "cell_type": "markdown",
   "id": "47a9ca80-fc0d-4972-8a78-075f9f08eaf2",
   "metadata": {},
   "source": [
    "Data Mining"
   ]
  },
  {
   "cell_type": "code",
   "execution_count": 2,
   "id": "f8d01ad1-b0d5-4979-b371-afef806141c9",
   "metadata": {},
   "outputs": [],
   "source": [
    "import pandas as pd\n",
    "df = pd.read_csv('emp2.csv')"
   ]
  },
  {
   "cell_type": "code",
   "execution_count": 3,
   "id": "9dd947fd-81e2-4398-bc2e-03fa47017c19",
   "metadata": {},
   "outputs": [
    {
     "data": {
      "text/html": [
       "<div>\n",
       "<style scoped>\n",
       "    .dataframe tbody tr th:only-of-type {\n",
       "        vertical-align: middle;\n",
       "    }\n",
       "\n",
       "    .dataframe tbody tr th {\n",
       "        vertical-align: top;\n",
       "    }\n",
       "\n",
       "    .dataframe thead th {\n",
       "        text-align: right;\n",
       "    }\n",
       "</style>\n",
       "<table border=\"1\" class=\"dataframe\">\n",
       "  <thead>\n",
       "    <tr style=\"text-align: right;\">\n",
       "      <th></th>\n",
       "      <th>First Name</th>\n",
       "      <th>Gender</th>\n",
       "      <th>Start Date</th>\n",
       "      <th>Last Login Time</th>\n",
       "      <th>Salary</th>\n",
       "      <th>Bonus</th>\n",
       "      <th>Senior Management</th>\n",
       "      <th>Team</th>\n",
       "    </tr>\n",
       "  </thead>\n",
       "  <tbody>\n",
       "    <tr>\n",
       "      <th>0</th>\n",
       "      <td>Douglas</td>\n",
       "      <td>Male</td>\n",
       "      <td>08-06-1993</td>\n",
       "      <td>12:42 PM</td>\n",
       "      <td>97308</td>\n",
       "      <td>6.945</td>\n",
       "      <td>True</td>\n",
       "      <td>Marketing</td>\n",
       "    </tr>\n",
       "    <tr>\n",
       "      <th>1</th>\n",
       "      <td>Thomas</td>\n",
       "      <td>Male</td>\n",
       "      <td>3/31/1996</td>\n",
       "      <td>06:53 AM</td>\n",
       "      <td>61933</td>\n",
       "      <td>4.170</td>\n",
       "      <td>True</td>\n",
       "      <td>NaN</td>\n",
       "    </tr>\n",
       "    <tr>\n",
       "      <th>2</th>\n",
       "      <td>Maria</td>\n",
       "      <td>Female</td>\n",
       "      <td>4/23/1993</td>\n",
       "      <td>11:17 AM</td>\n",
       "      <td>130590</td>\n",
       "      <td>11.858</td>\n",
       "      <td>False</td>\n",
       "      <td>Finance</td>\n",
       "    </tr>\n",
       "    <tr>\n",
       "      <th>3</th>\n",
       "      <td>Jerry</td>\n",
       "      <td>Male</td>\n",
       "      <td>03-04-2005</td>\n",
       "      <td>01:00 PM</td>\n",
       "      <td>138705</td>\n",
       "      <td>9.340</td>\n",
       "      <td>True</td>\n",
       "      <td>Finance</td>\n",
       "    </tr>\n",
       "    <tr>\n",
       "      <th>4</th>\n",
       "      <td>Larry</td>\n",
       "      <td>Male</td>\n",
       "      <td>1/24/1998</td>\n",
       "      <td>04:47 PM</td>\n",
       "      <td>101004</td>\n",
       "      <td>1.389</td>\n",
       "      <td>True</td>\n",
       "      <td>Client Services</td>\n",
       "    </tr>\n",
       "  </tbody>\n",
       "</table>\n",
       "</div>"
      ],
      "text/plain": [
       "  First Name  Gender  Start Date Last Login Time  Salary   Bonus  \\\n",
       "0    Douglas    Male  08-06-1993        12:42 PM   97308   6.945   \n",
       "1     Thomas    Male   3/31/1996        06:53 AM   61933   4.170   \n",
       "2      Maria  Female   4/23/1993        11:17 AM  130590  11.858   \n",
       "3      Jerry    Male  03-04-2005        01:00 PM  138705   9.340   \n",
       "4      Larry    Male   1/24/1998        04:47 PM  101004   1.389   \n",
       "\n",
       "  Senior Management             Team  \n",
       "0              True        Marketing  \n",
       "1              True              NaN  \n",
       "2             False          Finance  \n",
       "3              True          Finance  \n",
       "4              True  Client Services  "
      ]
     },
     "execution_count": 3,
     "metadata": {},
     "output_type": "execute_result"
    }
   ],
   "source": [
    "df.head(5)"
   ]
  },
  {
   "cell_type": "code",
   "execution_count": 4,
   "id": "9f1e1f1d-87ce-4e1f-b0fb-0e3385cda343",
   "metadata": {},
   "outputs": [
    {
     "data": {
      "text/html": [
       "<div>\n",
       "<style scoped>\n",
       "    .dataframe tbody tr th:only-of-type {\n",
       "        vertical-align: middle;\n",
       "    }\n",
       "\n",
       "    .dataframe tbody tr th {\n",
       "        vertical-align: top;\n",
       "    }\n",
       "\n",
       "    .dataframe thead th {\n",
       "        text-align: right;\n",
       "    }\n",
       "</style>\n",
       "<table border=\"1\" class=\"dataframe\">\n",
       "  <thead>\n",
       "    <tr style=\"text-align: right;\">\n",
       "      <th></th>\n",
       "      <th>First Name</th>\n",
       "      <th>Gender</th>\n",
       "      <th>Start Date</th>\n",
       "      <th>Last Login Time</th>\n",
       "      <th>Salary</th>\n",
       "      <th>Bonus</th>\n",
       "      <th>Senior Management</th>\n",
       "      <th>Team</th>\n",
       "    </tr>\n",
       "  </thead>\n",
       "  <tbody>\n",
       "    <tr>\n",
       "      <th>666</th>\n",
       "      <td>Harold</td>\n",
       "      <td>NaN</td>\n",
       "      <td>02-04-2004</td>\n",
       "      <td>11:02 AM</td>\n",
       "      <td>79459</td>\n",
       "      <td>7.776</td>\n",
       "      <td>True</td>\n",
       "      <td>Business Development</td>\n",
       "    </tr>\n",
       "    <tr>\n",
       "      <th>700</th>\n",
       "      <td>Frank</td>\n",
       "      <td>Male</td>\n",
       "      <td>03-02-2009</td>\n",
       "      <td>09:15 PM</td>\n",
       "      <td>78891</td>\n",
       "      <td>7.927</td>\n",
       "      <td>True</td>\n",
       "      <td>Distribution</td>\n",
       "    </tr>\n",
       "    <tr>\n",
       "      <th>228</th>\n",
       "      <td>Bobby</td>\n",
       "      <td>Male</td>\n",
       "      <td>9/23/1994</td>\n",
       "      <td>01:29 AM</td>\n",
       "      <td>51685</td>\n",
       "      <td>17.445</td>\n",
       "      <td>True</td>\n",
       "      <td>Engineering</td>\n",
       "    </tr>\n",
       "    <tr>\n",
       "      <th>995</th>\n",
       "      <td>Henry</td>\n",
       "      <td>NaN</td>\n",
       "      <td>11/23/2014</td>\n",
       "      <td>06:09 AM</td>\n",
       "      <td>132483</td>\n",
       "      <td>16.655</td>\n",
       "      <td>False</td>\n",
       "      <td>Distribution</td>\n",
       "    </tr>\n",
       "    <tr>\n",
       "      <th>839</th>\n",
       "      <td>Joyce</td>\n",
       "      <td>Female</td>\n",
       "      <td>7/25/2001</td>\n",
       "      <td>06:04 AM</td>\n",
       "      <td>51065</td>\n",
       "      <td>16.807</td>\n",
       "      <td>False</td>\n",
       "      <td>Human Resources</td>\n",
       "    </tr>\n",
       "  </tbody>\n",
       "</table>\n",
       "</div>"
      ],
      "text/plain": [
       "    First Name  Gender  Start Date Last Login Time  Salary   Bonus  \\\n",
       "666     Harold     NaN  02-04-2004        11:02 AM   79459   7.776   \n",
       "700      Frank    Male  03-02-2009        09:15 PM   78891   7.927   \n",
       "228      Bobby    Male   9/23/1994        01:29 AM   51685  17.445   \n",
       "995      Henry     NaN  11/23/2014        06:09 AM  132483  16.655   \n",
       "839      Joyce  Female   7/25/2001        06:04 AM   51065  16.807   \n",
       "\n",
       "    Senior Management                  Team  \n",
       "666              True  Business Development  \n",
       "700              True          Distribution  \n",
       "228              True           Engineering  \n",
       "995             False          Distribution  \n",
       "839             False       Human Resources  "
      ]
     },
     "execution_count": 4,
     "metadata": {},
     "output_type": "execute_result"
    }
   ],
   "source": [
    "df.sample(5)"
   ]
  },
  {
   "cell_type": "code",
   "execution_count": 5,
   "id": "5d889308-d869-4531-ad46-995376b8c695",
   "metadata": {},
   "outputs": [
    {
     "data": {
      "text/html": [
       "<div>\n",
       "<style scoped>\n",
       "    .dataframe tbody tr th:only-of-type {\n",
       "        vertical-align: middle;\n",
       "    }\n",
       "\n",
       "    .dataframe tbody tr th {\n",
       "        vertical-align: top;\n",
       "    }\n",
       "\n",
       "    .dataframe thead th {\n",
       "        text-align: right;\n",
       "    }\n",
       "</style>\n",
       "<table border=\"1\" class=\"dataframe\">\n",
       "  <thead>\n",
       "    <tr style=\"text-align: right;\">\n",
       "      <th></th>\n",
       "      <th>First Name</th>\n",
       "      <th>Gender</th>\n",
       "      <th>Start Date</th>\n",
       "      <th>Last Login Time</th>\n",
       "      <th>Salary</th>\n",
       "      <th>Bonus</th>\n",
       "      <th>Senior Management</th>\n",
       "      <th>Team</th>\n",
       "    </tr>\n",
       "  </thead>\n",
       "  <tbody>\n",
       "    <tr>\n",
       "      <th>0</th>\n",
       "      <td>False</td>\n",
       "      <td>False</td>\n",
       "      <td>False</td>\n",
       "      <td>False</td>\n",
       "      <td>False</td>\n",
       "      <td>False</td>\n",
       "      <td>False</td>\n",
       "      <td>False</td>\n",
       "    </tr>\n",
       "    <tr>\n",
       "      <th>1</th>\n",
       "      <td>False</td>\n",
       "      <td>False</td>\n",
       "      <td>False</td>\n",
       "      <td>False</td>\n",
       "      <td>False</td>\n",
       "      <td>False</td>\n",
       "      <td>False</td>\n",
       "      <td>True</td>\n",
       "    </tr>\n",
       "    <tr>\n",
       "      <th>2</th>\n",
       "      <td>False</td>\n",
       "      <td>False</td>\n",
       "      <td>False</td>\n",
       "      <td>False</td>\n",
       "      <td>False</td>\n",
       "      <td>False</td>\n",
       "      <td>False</td>\n",
       "      <td>False</td>\n",
       "    </tr>\n",
       "    <tr>\n",
       "      <th>3</th>\n",
       "      <td>False</td>\n",
       "      <td>False</td>\n",
       "      <td>False</td>\n",
       "      <td>False</td>\n",
       "      <td>False</td>\n",
       "      <td>False</td>\n",
       "      <td>False</td>\n",
       "      <td>False</td>\n",
       "    </tr>\n",
       "    <tr>\n",
       "      <th>4</th>\n",
       "      <td>False</td>\n",
       "      <td>False</td>\n",
       "      <td>False</td>\n",
       "      <td>False</td>\n",
       "      <td>False</td>\n",
       "      <td>False</td>\n",
       "      <td>False</td>\n",
       "      <td>False</td>\n",
       "    </tr>\n",
       "    <tr>\n",
       "      <th>...</th>\n",
       "      <td>...</td>\n",
       "      <td>...</td>\n",
       "      <td>...</td>\n",
       "      <td>...</td>\n",
       "      <td>...</td>\n",
       "      <td>...</td>\n",
       "      <td>...</td>\n",
       "      <td>...</td>\n",
       "    </tr>\n",
       "    <tr>\n",
       "      <th>995</th>\n",
       "      <td>False</td>\n",
       "      <td>True</td>\n",
       "      <td>False</td>\n",
       "      <td>False</td>\n",
       "      <td>False</td>\n",
       "      <td>False</td>\n",
       "      <td>False</td>\n",
       "      <td>False</td>\n",
       "    </tr>\n",
       "    <tr>\n",
       "      <th>996</th>\n",
       "      <td>False</td>\n",
       "      <td>False</td>\n",
       "      <td>False</td>\n",
       "      <td>False</td>\n",
       "      <td>False</td>\n",
       "      <td>False</td>\n",
       "      <td>False</td>\n",
       "      <td>False</td>\n",
       "    </tr>\n",
       "    <tr>\n",
       "      <th>997</th>\n",
       "      <td>False</td>\n",
       "      <td>False</td>\n",
       "      <td>False</td>\n",
       "      <td>False</td>\n",
       "      <td>False</td>\n",
       "      <td>False</td>\n",
       "      <td>False</td>\n",
       "      <td>False</td>\n",
       "    </tr>\n",
       "    <tr>\n",
       "      <th>998</th>\n",
       "      <td>False</td>\n",
       "      <td>False</td>\n",
       "      <td>False</td>\n",
       "      <td>False</td>\n",
       "      <td>False</td>\n",
       "      <td>False</td>\n",
       "      <td>False</td>\n",
       "      <td>False</td>\n",
       "    </tr>\n",
       "    <tr>\n",
       "      <th>999</th>\n",
       "      <td>False</td>\n",
       "      <td>False</td>\n",
       "      <td>False</td>\n",
       "      <td>False</td>\n",
       "      <td>False</td>\n",
       "      <td>False</td>\n",
       "      <td>False</td>\n",
       "      <td>False</td>\n",
       "    </tr>\n",
       "  </tbody>\n",
       "</table>\n",
       "<p>1000 rows × 8 columns</p>\n",
       "</div>"
      ],
      "text/plain": [
       "     First Name  Gender  Start Date  Last Login Time  Salary  Bonus  \\\n",
       "0         False   False       False            False   False  False   \n",
       "1         False   False       False            False   False  False   \n",
       "2         False   False       False            False   False  False   \n",
       "3         False   False       False            False   False  False   \n",
       "4         False   False       False            False   False  False   \n",
       "..          ...     ...         ...              ...     ...    ...   \n",
       "995       False    True       False            False   False  False   \n",
       "996       False   False       False            False   False  False   \n",
       "997       False   False       False            False   False  False   \n",
       "998       False   False       False            False   False  False   \n",
       "999       False   False       False            False   False  False   \n",
       "\n",
       "     Senior Management   Team  \n",
       "0                False  False  \n",
       "1                False   True  \n",
       "2                False  False  \n",
       "3                False  False  \n",
       "4                False  False  \n",
       "..                 ...    ...  \n",
       "995              False  False  \n",
       "996              False  False  \n",
       "997              False  False  \n",
       "998              False  False  \n",
       "999              False  False  \n",
       "\n",
       "[1000 rows x 8 columns]"
      ]
     },
     "execution_count": 5,
     "metadata": {},
     "output_type": "execute_result"
    }
   ],
   "source": [
    "df.isnull()"
   ]
  },
  {
   "cell_type": "code",
   "execution_count": 6,
   "id": "d68b7c7d-ab68-4f6d-97ef-27e38d0c5aa2",
   "metadata": {},
   "outputs": [
    {
     "data": {
      "text/plain": [
       "First Name           False\n",
       "Gender               False\n",
       "Start Date           False\n",
       "Last Login Time      False\n",
       "Salary               False\n",
       "Bonus                False\n",
       "Senior Management    False\n",
       "Team                 False\n",
       "dtype: bool"
      ]
     },
     "execution_count": 6,
     "metadata": {},
     "output_type": "execute_result"
    }
   ],
   "source": [
    "df.isnull().all()"
   ]
  },
  {
   "cell_type": "code",
   "execution_count": 7,
   "id": "9bb4f48f-f4b6-449b-b46b-8bf26cf3a244",
   "metadata": {},
   "outputs": [
    {
     "data": {
      "text/plain": [
       "First Name            True\n",
       "Gender                True\n",
       "Start Date           False\n",
       "Last Login Time      False\n",
       "Salary               False\n",
       "Bonus                False\n",
       "Senior Management     True\n",
       "Team                  True\n",
       "dtype: bool"
      ]
     },
     "execution_count": 7,
     "metadata": {},
     "output_type": "execute_result"
    }
   ],
   "source": [
    "df.isnull().any()"
   ]
  },
  {
   "cell_type": "code",
   "execution_count": 8,
   "id": "1f9d5645-614e-4798-a6dd-cb4574a5d974",
   "metadata": {},
   "outputs": [
    {
     "data": {
      "text/plain": [
       "0      False\n",
       "1      False\n",
       "2      False\n",
       "3      False\n",
       "4      False\n",
       "       ...  \n",
       "995    False\n",
       "996    False\n",
       "997    False\n",
       "998    False\n",
       "999    False\n",
       "Name: Salary, Length: 1000, dtype: bool"
      ]
     },
     "execution_count": 8,
     "metadata": {},
     "output_type": "execute_result"
    }
   ],
   "source": [
    "df['Salary'].isnull()"
   ]
  },
  {
   "cell_type": "code",
   "execution_count": 12,
   "id": "bcce1891-6ee9-4082-95f9-55f52f9c6971",
   "metadata": {},
   "outputs": [
    {
     "data": {
      "text/plain": [
       "False"
      ]
     },
     "execution_count": 12,
     "metadata": {},
     "output_type": "execute_result"
    }
   ],
   "source": [
    "df['Salary'].isnull().any()"
   ]
  },
  {
   "cell_type": "code",
   "execution_count": 13,
   "id": "f85fdd95-0aff-41b7-93f8-b121a3d75c76",
   "metadata": {},
   "outputs": [
    {
     "data": {
      "text/plain": [
       "False"
      ]
     },
     "execution_count": 13,
     "metadata": {},
     "output_type": "execute_result"
    }
   ],
   "source": [
    "df['Bonus'].isnull().all()"
   ]
  },
  {
   "cell_type": "code",
   "execution_count": 14,
   "id": "e34992d4-4cf0-475a-8f4d-4e3ec1bc70b0",
   "metadata": {},
   "outputs": [
    {
     "name": "stdout",
     "output_type": "stream",
     "text": [
      "<class 'pandas.core.frame.DataFrame'>\n",
      "RangeIndex: 1000 entries, 0 to 999\n",
      "Data columns (total 8 columns):\n",
      " #   Column             Non-Null Count  Dtype  \n",
      "---  ------             --------------  -----  \n",
      " 0   First Name         933 non-null    object \n",
      " 1   Gender             855 non-null    object \n",
      " 2   Start Date         1000 non-null   object \n",
      " 3   Last Login Time    1000 non-null   object \n",
      " 4   Salary             1000 non-null   int64  \n",
      " 5   Bonus              1000 non-null   float64\n",
      " 6   Senior Management  933 non-null    object \n",
      " 7   Team               957 non-null    object \n",
      "dtypes: float64(1), int64(1), object(6)\n",
      "memory usage: 62.6+ KB\n"
     ]
    }
   ],
   "source": [
    "df.info()"
   ]
  },
  {
   "cell_type": "code",
   "execution_count": 15,
   "id": "eb8db9f8-2a90-42d0-b997-c7875324b99a",
   "metadata": {},
   "outputs": [
    {
     "data": {
      "text/html": [
       "<div>\n",
       "<style scoped>\n",
       "    .dataframe tbody tr th:only-of-type {\n",
       "        vertical-align: middle;\n",
       "    }\n",
       "\n",
       "    .dataframe tbody tr th {\n",
       "        vertical-align: top;\n",
       "    }\n",
       "\n",
       "    .dataframe thead th {\n",
       "        text-align: right;\n",
       "    }\n",
       "</style>\n",
       "<table border=\"1\" class=\"dataframe\">\n",
       "  <thead>\n",
       "    <tr style=\"text-align: right;\">\n",
       "      <th></th>\n",
       "      <th>Salary</th>\n",
       "      <th>Bonus</th>\n",
       "    </tr>\n",
       "  </thead>\n",
       "  <tbody>\n",
       "    <tr>\n",
       "      <th>count</th>\n",
       "      <td>1000.000000</td>\n",
       "      <td>1000.000000</td>\n",
       "    </tr>\n",
       "    <tr>\n",
       "      <th>mean</th>\n",
       "      <td>90662.181000</td>\n",
       "      <td>10.207555</td>\n",
       "    </tr>\n",
       "    <tr>\n",
       "      <th>std</th>\n",
       "      <td>32923.693342</td>\n",
       "      <td>5.528481</td>\n",
       "    </tr>\n",
       "    <tr>\n",
       "      <th>min</th>\n",
       "      <td>35013.000000</td>\n",
       "      <td>1.015000</td>\n",
       "    </tr>\n",
       "    <tr>\n",
       "      <th>25%</th>\n",
       "      <td>62613.000000</td>\n",
       "      <td>5.401750</td>\n",
       "    </tr>\n",
       "    <tr>\n",
       "      <th>50%</th>\n",
       "      <td>90428.000000</td>\n",
       "      <td>9.838500</td>\n",
       "    </tr>\n",
       "    <tr>\n",
       "      <th>75%</th>\n",
       "      <td>118740.250000</td>\n",
       "      <td>14.838000</td>\n",
       "    </tr>\n",
       "    <tr>\n",
       "      <th>max</th>\n",
       "      <td>149908.000000</td>\n",
       "      <td>19.944000</td>\n",
       "    </tr>\n",
       "  </tbody>\n",
       "</table>\n",
       "</div>"
      ],
      "text/plain": [
       "              Salary        Bonus\n",
       "count    1000.000000  1000.000000\n",
       "mean    90662.181000    10.207555\n",
       "std     32923.693342     5.528481\n",
       "min     35013.000000     1.015000\n",
       "25%     62613.000000     5.401750\n",
       "50%     90428.000000     9.838500\n",
       "75%    118740.250000    14.838000\n",
       "max    149908.000000    19.944000"
      ]
     },
     "execution_count": 15,
     "metadata": {},
     "output_type": "execute_result"
    }
   ],
   "source": [
    "df.describe()"
   ]
  },
  {
   "cell_type": "markdown",
   "id": "fa61165f-d952-449b-86ac-66eb451193b3",
   "metadata": {},
   "source": [
    "Making new data frame df2"
   ]
  },
  {
   "cell_type": "code",
   "execution_count": 2,
   "id": "1f78c987-6075-45cf-889d-9645da9008a5",
   "metadata": {},
   "outputs": [],
   "source": [
    "import pandas as pd2\n",
    "df2 = pd2.read_csv('emp2.csv')"
   ]
  },
  {
   "cell_type": "code",
   "execution_count": 3,
   "id": "68b3d41a-090a-421f-92e4-628454076bcf",
   "metadata": {},
   "outputs": [
    {
     "data": {
      "text/html": [
       "<div>\n",
       "<style scoped>\n",
       "    .dataframe tbody tr th:only-of-type {\n",
       "        vertical-align: middle;\n",
       "    }\n",
       "\n",
       "    .dataframe tbody tr th {\n",
       "        vertical-align: top;\n",
       "    }\n",
       "\n",
       "    .dataframe thead th {\n",
       "        text-align: right;\n",
       "    }\n",
       "</style>\n",
       "<table border=\"1\" class=\"dataframe\">\n",
       "  <thead>\n",
       "    <tr style=\"text-align: right;\">\n",
       "      <th></th>\n",
       "      <th>First Name</th>\n",
       "      <th>Gender</th>\n",
       "      <th>Start Date</th>\n",
       "      <th>Last Login Time</th>\n",
       "      <th>Salary</th>\n",
       "      <th>Bonus</th>\n",
       "      <th>Senior Management</th>\n",
       "      <th>Team</th>\n",
       "    </tr>\n",
       "  </thead>\n",
       "  <tbody>\n",
       "    <tr>\n",
       "      <th>167</th>\n",
       "      <td>Christopher</td>\n",
       "      <td>Male</td>\n",
       "      <td>12/24/2011</td>\n",
       "      <td>12:22 PM</td>\n",
       "      <td>142178</td>\n",
       "      <td>17.984</td>\n",
       "      <td>True</td>\n",
       "      <td>Sales</td>\n",
       "    </tr>\n",
       "    <tr>\n",
       "      <th>397</th>\n",
       "      <td>Clarence</td>\n",
       "      <td>Male</td>\n",
       "      <td>1/13/2005</td>\n",
       "      <td>09:00 AM</td>\n",
       "      <td>116693</td>\n",
       "      <td>13.835</td>\n",
       "      <td>True</td>\n",
       "      <td>Distribution</td>\n",
       "    </tr>\n",
       "    <tr>\n",
       "      <th>860</th>\n",
       "      <td>Phillip</td>\n",
       "      <td>Male</td>\n",
       "      <td>10-07-1984</td>\n",
       "      <td>11:05 AM</td>\n",
       "      <td>36837</td>\n",
       "      <td>14.660</td>\n",
       "      <td>False</td>\n",
       "      <td>Marketing</td>\n",
       "    </tr>\n",
       "    <tr>\n",
       "      <th>873</th>\n",
       "      <td>Jason</td>\n",
       "      <td>Male</td>\n",
       "      <td>05-01-1998</td>\n",
       "      <td>06:05 PM</td>\n",
       "      <td>75607</td>\n",
       "      <td>4.299</td>\n",
       "      <td>True</td>\n",
       "      <td>Sales</td>\n",
       "    </tr>\n",
       "    <tr>\n",
       "      <th>133</th>\n",
       "      <td>Lois</td>\n",
       "      <td>Female</td>\n",
       "      <td>12/25/1987</td>\n",
       "      <td>04:16 PM</td>\n",
       "      <td>106317</td>\n",
       "      <td>2.235</td>\n",
       "      <td>True</td>\n",
       "      <td>Client Services</td>\n",
       "    </tr>\n",
       "    <tr>\n",
       "      <th>624</th>\n",
       "      <td>Jeremy</td>\n",
       "      <td>Male</td>\n",
       "      <td>11/26/1997</td>\n",
       "      <td>08:22 AM</td>\n",
       "      <td>133033</td>\n",
       "      <td>12.200</td>\n",
       "      <td>False</td>\n",
       "      <td>Sales</td>\n",
       "    </tr>\n",
       "    <tr>\n",
       "      <th>173</th>\n",
       "      <td>Lillian</td>\n",
       "      <td>Female</td>\n",
       "      <td>12/21/2008</td>\n",
       "      <td>06:51 PM</td>\n",
       "      <td>85446</td>\n",
       "      <td>3.959</td>\n",
       "      <td>True</td>\n",
       "      <td>Engineering</td>\n",
       "    </tr>\n",
       "    <tr>\n",
       "      <th>813</th>\n",
       "      <td>Evelyn</td>\n",
       "      <td>Female</td>\n",
       "      <td>02-10-2002</td>\n",
       "      <td>04:44 AM</td>\n",
       "      <td>123621</td>\n",
       "      <td>19.767</td>\n",
       "      <td>True</td>\n",
       "      <td>Marketing</td>\n",
       "    </tr>\n",
       "    <tr>\n",
       "      <th>136</th>\n",
       "      <td>Henry</td>\n",
       "      <td>Male</td>\n",
       "      <td>4/24/1995</td>\n",
       "      <td>04:18 AM</td>\n",
       "      <td>43542</td>\n",
       "      <td>19.687</td>\n",
       "      <td>False</td>\n",
       "      <td>Legal</td>\n",
       "    </tr>\n",
       "    <tr>\n",
       "      <th>987</th>\n",
       "      <td>Gloria</td>\n",
       "      <td>Female</td>\n",
       "      <td>12-08-2014</td>\n",
       "      <td>05:08 AM</td>\n",
       "      <td>136709</td>\n",
       "      <td>10.331</td>\n",
       "      <td>True</td>\n",
       "      <td>Finance</td>\n",
       "    </tr>\n",
       "    <tr>\n",
       "      <th>620</th>\n",
       "      <td>Ralph</td>\n",
       "      <td>Male</td>\n",
       "      <td>03-07-2012</td>\n",
       "      <td>02:25 AM</td>\n",
       "      <td>81215</td>\n",
       "      <td>8.400</td>\n",
       "      <td>False</td>\n",
       "      <td>Finance</td>\n",
       "    </tr>\n",
       "    <tr>\n",
       "      <th>917</th>\n",
       "      <td>Shawn</td>\n",
       "      <td>Male</td>\n",
       "      <td>3/13/2008</td>\n",
       "      <td>05:36 PM</td>\n",
       "      <td>51667</td>\n",
       "      <td>6.339</td>\n",
       "      <td>False</td>\n",
       "      <td>Product</td>\n",
       "    </tr>\n",
       "    <tr>\n",
       "      <th>850</th>\n",
       "      <td>Charles</td>\n",
       "      <td>Male</td>\n",
       "      <td>09-03-1997</td>\n",
       "      <td>10:04 AM</td>\n",
       "      <td>148291</td>\n",
       "      <td>6.002</td>\n",
       "      <td>False</td>\n",
       "      <td>NaN</td>\n",
       "    </tr>\n",
       "    <tr>\n",
       "      <th>652</th>\n",
       "      <td>Willie</td>\n",
       "      <td>Male</td>\n",
       "      <td>12-05-2009</td>\n",
       "      <td>05:39 AM</td>\n",
       "      <td>141932</td>\n",
       "      <td>1.017</td>\n",
       "      <td>True</td>\n",
       "      <td>Engineering</td>\n",
       "    </tr>\n",
       "    <tr>\n",
       "      <th>312</th>\n",
       "      <td>Gerald</td>\n",
       "      <td>Male</td>\n",
       "      <td>4/16/2001</td>\n",
       "      <td>10:09 PM</td>\n",
       "      <td>121604</td>\n",
       "      <td>1.923</td>\n",
       "      <td>True</td>\n",
       "      <td>Sales</td>\n",
       "    </tr>\n",
       "    <tr>\n",
       "      <th>669</th>\n",
       "      <td>Joseph</td>\n",
       "      <td>NaN</td>\n",
       "      <td>3/28/1982</td>\n",
       "      <td>01:05 PM</td>\n",
       "      <td>86564</td>\n",
       "      <td>11.879</td>\n",
       "      <td>True</td>\n",
       "      <td>NaN</td>\n",
       "    </tr>\n",
       "    <tr>\n",
       "      <th>435</th>\n",
       "      <td>Billy</td>\n",
       "      <td>Male</td>\n",
       "      <td>12-01-2006</td>\n",
       "      <td>03:32 PM</td>\n",
       "      <td>144709</td>\n",
       "      <td>10.069</td>\n",
       "      <td>True</td>\n",
       "      <td>Distribution</td>\n",
       "    </tr>\n",
       "    <tr>\n",
       "      <th>93</th>\n",
       "      <td>Virginia</td>\n",
       "      <td>NaN</td>\n",
       "      <td>05-07-1994</td>\n",
       "      <td>05:58 PM</td>\n",
       "      <td>111858</td>\n",
       "      <td>1.601</td>\n",
       "      <td>True</td>\n",
       "      <td>Legal</td>\n",
       "    </tr>\n",
       "    <tr>\n",
       "      <th>984</th>\n",
       "      <td>Maria</td>\n",
       "      <td>Female</td>\n",
       "      <td>10/15/2011</td>\n",
       "      <td>04:53 PM</td>\n",
       "      <td>43455</td>\n",
       "      <td>13.040</td>\n",
       "      <td>False</td>\n",
       "      <td>Engineering</td>\n",
       "    </tr>\n",
       "    <tr>\n",
       "      <th>690</th>\n",
       "      <td>Bruce</td>\n",
       "      <td>Male</td>\n",
       "      <td>1/28/2007</td>\n",
       "      <td>11:10 PM</td>\n",
       "      <td>134988</td>\n",
       "      <td>13.926</td>\n",
       "      <td>True</td>\n",
       "      <td>Sales</td>\n",
       "    </tr>\n",
       "  </tbody>\n",
       "</table>\n",
       "</div>"
      ],
      "text/plain": [
       "      First Name  Gender  Start Date Last Login Time  Salary   Bonus  \\\n",
       "167  Christopher    Male  12/24/2011        12:22 PM  142178  17.984   \n",
       "397     Clarence    Male   1/13/2005        09:00 AM  116693  13.835   \n",
       "860      Phillip    Male  10-07-1984        11:05 AM   36837  14.660   \n",
       "873        Jason    Male  05-01-1998        06:05 PM   75607   4.299   \n",
       "133         Lois  Female  12/25/1987        04:16 PM  106317   2.235   \n",
       "624       Jeremy    Male  11/26/1997        08:22 AM  133033  12.200   \n",
       "173      Lillian  Female  12/21/2008        06:51 PM   85446   3.959   \n",
       "813       Evelyn  Female  02-10-2002        04:44 AM  123621  19.767   \n",
       "136        Henry    Male   4/24/1995        04:18 AM   43542  19.687   \n",
       "987       Gloria  Female  12-08-2014        05:08 AM  136709  10.331   \n",
       "620        Ralph    Male  03-07-2012        02:25 AM   81215   8.400   \n",
       "917        Shawn    Male   3/13/2008        05:36 PM   51667   6.339   \n",
       "850      Charles    Male  09-03-1997        10:04 AM  148291   6.002   \n",
       "652       Willie    Male  12-05-2009        05:39 AM  141932   1.017   \n",
       "312       Gerald    Male   4/16/2001        10:09 PM  121604   1.923   \n",
       "669       Joseph     NaN   3/28/1982        01:05 PM   86564  11.879   \n",
       "435        Billy    Male  12-01-2006        03:32 PM  144709  10.069   \n",
       "93      Virginia     NaN  05-07-1994        05:58 PM  111858   1.601   \n",
       "984        Maria  Female  10/15/2011        04:53 PM   43455  13.040   \n",
       "690        Bruce    Male   1/28/2007        11:10 PM  134988  13.926   \n",
       "\n",
       "    Senior Management             Team  \n",
       "167              True            Sales  \n",
       "397              True     Distribution  \n",
       "860             False        Marketing  \n",
       "873              True            Sales  \n",
       "133              True  Client Services  \n",
       "624             False            Sales  \n",
       "173              True      Engineering  \n",
       "813              True        Marketing  \n",
       "136             False            Legal  \n",
       "987              True          Finance  \n",
       "620             False          Finance  \n",
       "917             False          Product  \n",
       "850             False              NaN  \n",
       "652              True      Engineering  \n",
       "312              True            Sales  \n",
       "669              True              NaN  \n",
       "435              True     Distribution  \n",
       "93               True            Legal  \n",
       "984             False      Engineering  \n",
       "690              True            Sales  "
      ]
     },
     "execution_count": 3,
     "metadata": {},
     "output_type": "execute_result"
    }
   ],
   "source": [
    "df2.sample(20)"
   ]
  },
  {
   "cell_type": "code",
   "execution_count": 4,
   "id": "fa2a042f-2e7b-4e26-ae00-9d3dc6c5beab",
   "metadata": {},
   "outputs": [
    {
     "data": {
      "text/plain": [
       "First Name            True\n",
       "Gender                True\n",
       "Start Date           False\n",
       "Last Login Time      False\n",
       "Salary               False\n",
       "Bonus                False\n",
       "Senior Management     True\n",
       "Team                  True\n",
       "dtype: bool"
      ]
     },
     "execution_count": 4,
     "metadata": {},
     "output_type": "execute_result"
    }
   ],
   "source": [
    "df2.isnull().any()"
   ]
  },
  {
   "cell_type": "code",
   "execution_count": 5,
   "id": "3f88dc78-5bef-4e75-a470-0aef553869b8",
   "metadata": {},
   "outputs": [],
   "source": [
    "columns_to_check = ['First Name','Gender','Senior Management','Team']"
   ]
  },
  {
   "cell_type": "code",
   "execution_count": 8,
   "id": "98a20990-9913-43bb-b30b-773acc0a5c16",
   "metadata": {},
   "outputs": [],
   "source": [
    "all_missing = df2[columns_to_check].isnull().any()"
   ]
  },
  {
   "cell_type": "code",
   "execution_count": 10,
   "id": "7181f7c9-b731-46f1-8cb7-86f9b874be60",
   "metadata": {},
   "outputs": [
    {
     "name": "stdout",
     "output_type": "stream",
     "text": [
      "First Name           True\n",
      "Gender               True\n",
      "Senior Management    True\n",
      "Team                 True\n",
      "dtype: bool\n"
     ]
    }
   ],
   "source": [
    "print(all_missing)"
   ]
  },
  {
   "cell_type": "code",
   "execution_count": 11,
   "id": "bda419e6-2c7f-4403-9f49-a848c8a7d2ec",
   "metadata": {},
   "outputs": [],
   "source": [
    "all_missing = df2[columns_to_check].isnull().all()"
   ]
  },
  {
   "cell_type": "code",
   "execution_count": 12,
   "id": "f3e8f45e-315d-4f68-83d1-50c79ed4b6e8",
   "metadata": {},
   "outputs": [
    {
     "name": "stdout",
     "output_type": "stream",
     "text": [
      "First Name           False\n",
      "Gender               False\n",
      "Senior Management    False\n",
      "Team                 False\n",
      "dtype: bool\n"
     ]
    }
   ],
   "source": [
    "print(all_missing)"
   ]
  },
  {
   "cell_type": "code",
   "execution_count": 13,
   "id": "02521dd6-701b-49f4-8308-53a9c0125c2b",
   "metadata": {},
   "outputs": [],
   "source": [
    "any_missing = df2[columns_to_check].isnull().any()"
   ]
  },
  {
   "cell_type": "code",
   "execution_count": 14,
   "id": "a4e4bf71-6502-405d-892e-5ac07b2ca2b5",
   "metadata": {},
   "outputs": [
    {
     "name": "stdout",
     "output_type": "stream",
     "text": [
      "First Name           True\n",
      "Gender               True\n",
      "Senior Management    True\n",
      "Team                 True\n",
      "dtype: bool\n"
     ]
    }
   ],
   "source": [
    "print(any_missing)"
   ]
  },
  {
   "cell_type": "code",
   "execution_count": 15,
   "id": "4a09f891-1c42-4c6e-bd3c-0427d597f516",
   "metadata": {},
   "outputs": [],
   "source": [
    "any_missing_combination = df2[columns_to_check].isnull().any().all()"
   ]
  },
  {
   "cell_type": "code",
   "execution_count": 16,
   "id": "d9903ad9-e183-408e-b6d2-1bf91dfeaab6",
   "metadata": {},
   "outputs": [
    {
     "name": "stdout",
     "output_type": "stream",
     "text": [
      "True\n"
     ]
    }
   ],
   "source": [
    "print(any_missing_combination)"
   ]
  },
  {
   "cell_type": "code",
   "execution_count": 17,
   "id": "65369bd8-533c-415d-83dc-266cd2eb0987",
   "metadata": {},
   "outputs": [],
   "source": [
    "any_missing_combination2 = df2[columns_to_check].isnull().any().any()"
   ]
  },
  {
   "cell_type": "code",
   "execution_count": 18,
   "id": "cd0fb674-6144-4b8d-9eb2-05f5e1b04276",
   "metadata": {},
   "outputs": [
    {
     "name": "stdout",
     "output_type": "stream",
     "text": [
      "True\n"
     ]
    }
   ],
   "source": [
    "print(any_missing_combination2)"
   ]
  },
  {
   "cell_type": "code",
   "execution_count": 21,
   "id": "2ff31ba5-2366-4c8a-beda-cd3d2826288f",
   "metadata": {},
   "outputs": [],
   "source": [
    "mask = df2[columns_to_check].isnull().all(axis=1)"
   ]
  },
  {
   "cell_type": "code",
   "execution_count": 22,
   "id": "45268a69-a689-446b-a2ba-097b5db1707b",
   "metadata": {},
   "outputs": [
    {
     "name": "stdout",
     "output_type": "stream",
     "text": [
      "0      False\n",
      "1      False\n",
      "2      False\n",
      "3      False\n",
      "4      False\n",
      "       ...  \n",
      "995    False\n",
      "996    False\n",
      "997    False\n",
      "998    False\n",
      "999    False\n",
      "Length: 1000, dtype: bool\n"
     ]
    }
   ],
   "source": [
    "print(mask)"
   ]
  },
  {
   "cell_type": "code",
   "execution_count": 23,
   "id": "aaa7126d-612a-4ce6-b4e2-7bd9b1708030",
   "metadata": {},
   "outputs": [],
   "source": [
    "mask2 = df2[columns_to_check].isnull().any(axis=1)"
   ]
  },
  {
   "cell_type": "code",
   "execution_count": 24,
   "id": "d8a68e27-dbc8-4169-ad16-9ebeae8e4151",
   "metadata": {},
   "outputs": [
    {
     "name": "stdout",
     "output_type": "stream",
     "text": [
      "0      False\n",
      "1       True\n",
      "2      False\n",
      "3      False\n",
      "4      False\n",
      "       ...  \n",
      "995     True\n",
      "996    False\n",
      "997    False\n",
      "998    False\n",
      "999    False\n",
      "Length: 1000, dtype: bool\n"
     ]
    }
   ],
   "source": [
    "print(mask2)"
   ]
  },
  {
   "cell_type": "code",
   "execution_count": 25,
   "id": "8f902149-ba6d-462b-a574-3b2ee93d9857",
   "metadata": {},
   "outputs": [
    {
     "ename": "NameError",
     "evalue": "name 'df' is not defined",
     "output_type": "error",
     "traceback": [
      "\u001b[1;31m---------------------------------------------------------------------------\u001b[0m",
      "\u001b[1;31mNameError\u001b[0m                                 Traceback (most recent call last)",
      "Cell \u001b[1;32mIn[25], line 1\u001b[0m\n\u001b[1;32m----> 1\u001b[0m rows_with_missing_values \u001b[38;5;241m=\u001b[39m df2[\u001b[43mdf\u001b[49m\u001b[38;5;241m.\u001b[39misnull()\u001b[38;5;241m.\u001b[39many(axis\u001b[38;5;241m=\u001b[39m\u001b[38;5;241m1\u001b[39m)]\n",
      "\u001b[1;31mNameError\u001b[0m: name 'df' is not defined"
     ]
    }
   ],
   "source": [
    "rows_with_missing_values = df2[df.isnull().any(axis=1)]"
   ]
  },
  {
   "cell_type": "code",
   "execution_count": 26,
   "id": "bc3268fe-9d54-449c-b39e-853ec2ff38d4",
   "metadata": {},
   "outputs": [],
   "source": [
    "rows_with_missing_values = df2[df2.isnull().any(axis=1)]"
   ]
  },
  {
   "cell_type": "code",
   "execution_count": 27,
   "id": "1090b592-7585-49e1-a677-b20c9465ce42",
   "metadata": {},
   "outputs": [
    {
     "name": "stdout",
     "output_type": "stream",
     "text": [
      "    First Name  Gender  Start Date Last Login Time  Salary   Bonus  \\\n",
      "1       Thomas    Male   3/31/1996        06:53 AM   61933   4.170   \n",
      "7          NaN  Female   7/20/2015        10:43 AM   45906  11.598   \n",
      "10      Louise  Female  08-12-1980        09:01 AM   63241  15.132   \n",
      "20        Lois     NaN   4/22/1995        07:18 PM   64714   4.934   \n",
      "22      Joshua     NaN  03-08-2012        01:58 AM   90816  18.816   \n",
      "..         ...     ...         ...             ...     ...     ...   \n",
      "961    Antonio     NaN   6/18/1989        09:37 PM  103050   3.050   \n",
      "972     Victor     NaN   7/28/2006        02:49 PM   76381  11.159   \n",
      "985    Stephen     NaN  07-10-1983        08:10 PM   85668   1.909   \n",
      "989     Justin     NaN  02-10-1991        04:58 PM   38344   3.794   \n",
      "995      Henry     NaN  11/23/2014        06:09 AM  132483  16.655   \n",
      "\n",
      "    Senior Management             Team  \n",
      "1                True              NaN  \n",
      "7                 NaN          Finance  \n",
      "10               True              NaN  \n",
      "20               True            Legal  \n",
      "22               True  Client Services  \n",
      "..                ...              ...  \n",
      "961             False            Legal  \n",
      "972              True            Sales  \n",
      "985             False            Legal  \n",
      "989             False            Legal  \n",
      "995             False     Distribution  \n",
      "\n",
      "[236 rows x 8 columns]\n"
     ]
    }
   ],
   "source": [
    "print(rows_with_missing_values)"
   ]
  },
  {
   "cell_type": "code",
   "execution_count": 29,
   "id": "7fb3260c-ea22-4c45-9d17-68cf7703ec9e",
   "metadata": {},
   "outputs": [],
   "source": [
    "rows_with_missing_values = df2[df2[columns_to_check].isnull().any(axis=1)]"
   ]
  },
  {
   "cell_type": "code",
   "execution_count": 30,
   "id": "01c590a1-a7da-43bc-9dc8-685b71189889",
   "metadata": {},
   "outputs": [
    {
     "name": "stdout",
     "output_type": "stream",
     "text": [
      "    First Name  Gender  Start Date Last Login Time  Salary   Bonus  \\\n",
      "1       Thomas    Male   3/31/1996        06:53 AM   61933   4.170   \n",
      "7          NaN  Female   7/20/2015        10:43 AM   45906  11.598   \n",
      "10      Louise  Female  08-12-1980        09:01 AM   63241  15.132   \n",
      "20        Lois     NaN   4/22/1995        07:18 PM   64714   4.934   \n",
      "22      Joshua     NaN  03-08-2012        01:58 AM   90816  18.816   \n",
      "..         ...     ...         ...             ...     ...     ...   \n",
      "961    Antonio     NaN   6/18/1989        09:37 PM  103050   3.050   \n",
      "972     Victor     NaN   7/28/2006        02:49 PM   76381  11.159   \n",
      "985    Stephen     NaN  07-10-1983        08:10 PM   85668   1.909   \n",
      "989     Justin     NaN  02-10-1991        04:58 PM   38344   3.794   \n",
      "995      Henry     NaN  11/23/2014        06:09 AM  132483  16.655   \n",
      "\n",
      "    Senior Management             Team  \n",
      "1                True              NaN  \n",
      "7                 NaN          Finance  \n",
      "10               True              NaN  \n",
      "20               True            Legal  \n",
      "22               True  Client Services  \n",
      "..                ...              ...  \n",
      "961             False            Legal  \n",
      "972              True            Sales  \n",
      "985             False            Legal  \n",
      "989             False            Legal  \n",
      "995             False     Distribution  \n",
      "\n",
      "[236 rows x 8 columns]\n"
     ]
    }
   ],
   "source": [
    "print(rows_with_missing_values)"
   ]
  },
  {
   "cell_type": "code",
   "execution_count": 31,
   "id": "39b7026d-53dc-4ac5-8290-9d24d158d9ba",
   "metadata": {},
   "outputs": [],
   "source": [
    "columns_with_missing_values = df2.columns[df2.isnull().any()].tolist()"
   ]
  },
  {
   "cell_type": "code",
   "execution_count": 33,
   "id": "97e5261f-6191-4300-b873-a84c58d803d1",
   "metadata": {},
   "outputs": [
    {
     "name": "stdout",
     "output_type": "stream",
     "text": [
      "    First Name  Gender Senior Management                  Team\n",
      "0      Douglas    Male              True             Marketing\n",
      "1       Thomas    Male              True                   NaN\n",
      "2        Maria  Female             False               Finance\n",
      "3        Jerry    Male              True               Finance\n",
      "4        Larry    Male              True       Client Services\n",
      "..         ...     ...               ...                   ...\n",
      "995      Henry     NaN             False          Distribution\n",
      "996    Phillip    Male             False               Finance\n",
      "997    Russell    Male             False               Product\n",
      "998      Larry    Male             False  Business Development\n",
      "999     Albert    Male              True                 Sales\n",
      "\n",
      "[1000 rows x 4 columns]\n"
     ]
    }
   ],
   "source": [
    "print(df2[columns_with_missing_values])"
   ]
  },
  {
   "cell_type": "code",
   "execution_count": 34,
   "id": "9e367757-6918-4ff0-a21e-86d168e7a1e3",
   "metadata": {},
   "outputs": [],
   "source": [
    "rows_with_empty_values = df2.loc[df2[columns_with_missing_values].isnull().any(axis=1)]"
   ]
  },
  {
   "cell_type": "code",
   "execution_count": 35,
   "id": "c37a3bde-bef9-434e-9cb5-75906cacdf82",
   "metadata": {},
   "outputs": [
    {
     "name": "stdout",
     "output_type": "stream",
     "text": [
      "    First Name  Gender  Start Date Last Login Time  Salary   Bonus  \\\n",
      "1       Thomas    Male   3/31/1996        06:53 AM   61933   4.170   \n",
      "7          NaN  Female   7/20/2015        10:43 AM   45906  11.598   \n",
      "10      Louise  Female  08-12-1980        09:01 AM   63241  15.132   \n",
      "20        Lois     NaN   4/22/1995        07:18 PM   64714   4.934   \n",
      "22      Joshua     NaN  03-08-2012        01:58 AM   90816  18.816   \n",
      "..         ...     ...         ...             ...     ...     ...   \n",
      "961    Antonio     NaN   6/18/1989        09:37 PM  103050   3.050   \n",
      "972     Victor     NaN   7/28/2006        02:49 PM   76381  11.159   \n",
      "985    Stephen     NaN  07-10-1983        08:10 PM   85668   1.909   \n",
      "989     Justin     NaN  02-10-1991        04:58 PM   38344   3.794   \n",
      "995      Henry     NaN  11/23/2014        06:09 AM  132483  16.655   \n",
      "\n",
      "    Senior Management             Team  \n",
      "1                True              NaN  \n",
      "7                 NaN          Finance  \n",
      "10               True              NaN  \n",
      "20               True            Legal  \n",
      "22               True  Client Services  \n",
      "..                ...              ...  \n",
      "961             False            Legal  \n",
      "972              True            Sales  \n",
      "985             False            Legal  \n",
      "989             False            Legal  \n",
      "995             False     Distribution  \n",
      "\n",
      "[236 rows x 8 columns]\n"
     ]
    }
   ],
   "source": [
    "print(rows_with_empty_values)"
   ]
  },
  {
   "cell_type": "code",
   "execution_count": 36,
   "id": "0d8545a3-d4e0-42d7-9fc9-66ce32c84ce3",
   "metadata": {},
   "outputs": [],
   "source": [
    "rows_with_missing_values = df2[df2.isnull().any(axis=1)]"
   ]
  },
  {
   "cell_type": "code",
   "execution_count": 37,
   "id": "22cfd76d-cdfb-401a-b7e8-6161da81a99f",
   "metadata": {},
   "outputs": [],
   "source": [
    "columns_with_missing_values = df2.columns[df2.isnull().any()].tolist()"
   ]
  },
  {
   "cell_type": "code",
   "execution_count": 39,
   "id": "4768b19d-6aad-48fb-878a-5ffe0246834f",
   "metadata": {},
   "outputs": [],
   "source": [
    "columns_with_missing_values = df2.columns[rows_with_missing_values.isnull().any()].tolist()"
   ]
  },
  {
   "cell_type": "code",
   "execution_count": 40,
   "id": "05c55168-7956-426d-805e-da1856612198",
   "metadata": {},
   "outputs": [
    {
     "name": "stdout",
     "output_type": "stream",
     "text": [
      "['First Name', 'Gender', 'Senior Management', 'Team']\n"
     ]
    }
   ],
   "source": [
    "print(columns_with_missing_values)"
   ]
  },
  {
   "cell_type": "code",
   "execution_count": null,
   "id": "5f23b720-c8ae-41ae-803a-9c97498074cc",
   "metadata": {},
   "outputs": [],
   "source": []
  }
 ],
 "metadata": {
  "kernelspec": {
   "display_name": "Python 3 (ipykernel)",
   "language": "python",
   "name": "python3"
  },
  "language_info": {
   "codemirror_mode": {
    "name": "ipython",
    "version": 3
   },
   "file_extension": ".py",
   "mimetype": "text/x-python",
   "name": "python",
   "nbconvert_exporter": "python",
   "pygments_lexer": "ipython3",
   "version": "3.10.5"
  }
 },
 "nbformat": 4,
 "nbformat_minor": 5
}
