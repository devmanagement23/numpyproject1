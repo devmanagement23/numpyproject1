{
 "cells": [
  {
   "cell_type": "code",
   "execution_count": 1,
   "id": "10464ba5-d85c-466f-9e36-343837cb70e8",
   "metadata": {},
   "outputs": [
    {
     "name": "stdout",
     "output_type": "stream",
     "text": [
      "Array with Rank 1:\n",
      " [1 2 3]\n"
     ]
    }
   ],
   "source": [
    "import numpy as np\n",
    "arr = np.array([1,2,3])\n",
    "print(\"Array with Rank 1:\\n\",arr)"
   ]
  },
  {
   "cell_type": "code",
   "execution_count": 2,
   "id": "a35b2d06-fbf4-46ae-857b-a533d70ecc56",
   "metadata": {},
   "outputs": [
    {
     "name": "stdout",
     "output_type": "stream",
     "text": [
      "Array with Rank 1 :\n",
      " [44 54 32 45]\n"
     ]
    }
   ],
   "source": [
    "arr2 = np.array([44,54,32,45])\n",
    "print(\"Array with Rank 1 :\\n\",arr2)"
   ]
  },
  {
   "cell_type": "code",
   "execution_count": null,
   "id": "295547bc-8ff2-4913-97d0-f6d4e169383a",
   "metadata": {},
   "outputs": [],
   "source": []
  }
 ],
 "metadata": {
  "kernelspec": {
   "display_name": "Python 3 (ipykernel)",
   "language": "python",
   "name": "python3"
  },
  "language_info": {
   "codemirror_mode": {
    "name": "ipython",
    "version": 3
   },
   "file_extension": ".py",
   "mimetype": "text/x-python",
   "name": "python",
   "nbconvert_exporter": "python",
   "pygments_lexer": "ipython3",
   "version": "3.10.5"
  }
 },
 "nbformat": 4,
 "nbformat_minor": 5
}
